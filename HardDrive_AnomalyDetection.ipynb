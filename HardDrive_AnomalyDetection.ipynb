{
 "cells": [
  {
   "cell_type": "code",
   "execution_count": 1,
   "metadata": {},
   "outputs": [
    {
     "name": "stdout",
     "output_type": "stream",
     "text": [
      "/home/unburied/Gitstuff/DS-Unit-2/DS-Unit-2-Project/drive_stats_2019_Q1\n"
     ]
    }
   ],
   "source": [
    "cd drive_stats_2019_Q1/"
   ]
  },
  {
   "cell_type": "code",
   "execution_count": 2,
   "metadata": {},
   "outputs": [],
   "source": [
    "from glob import glob\n",
    "import pandas as pd\n",
    "\n",
    "#read last week of march files into single list of dfs\n",
    "data = [pd.read_csv(file) for file in glob('2019-03-2*')]\n",
    "\n",
    "#concat all data and resetindex\n",
    "data = pd.concat(data).reset_index(drop = True)"
   ]
  },
  {
   "cell_type": "code",
   "execution_count": 3,
   "metadata": {
    "scrolled": true
   },
   "outputs": [
    {
     "data": {
      "text/html": [
       "<div>\n",
       "<style scoped>\n",
       "    .dataframe tbody tr th:only-of-type {\n",
       "        vertical-align: middle;\n",
       "    }\n",
       "\n",
       "    .dataframe tbody tr th {\n",
       "        vertical-align: top;\n",
       "    }\n",
       "\n",
       "    .dataframe thead th {\n",
       "        text-align: right;\n",
       "    }\n",
       "</style>\n",
       "<table border=\"1\" class=\"dataframe\">\n",
       "  <thead>\n",
       "    <tr style=\"text-align: right;\">\n",
       "      <th></th>\n",
       "      <th>date</th>\n",
       "      <th>serial_number</th>\n",
       "      <th>model</th>\n",
       "      <th>capacity_bytes</th>\n",
       "      <th>failure</th>\n",
       "      <th>smart_1_normalized</th>\n",
       "      <th>smart_1_raw</th>\n",
       "      <th>smart_2_normalized</th>\n",
       "      <th>smart_2_raw</th>\n",
       "      <th>smart_3_normalized</th>\n",
       "      <th>...</th>\n",
       "      <th>smart_250_normalized</th>\n",
       "      <th>smart_250_raw</th>\n",
       "      <th>smart_251_normalized</th>\n",
       "      <th>smart_251_raw</th>\n",
       "      <th>smart_252_normalized</th>\n",
       "      <th>smart_252_raw</th>\n",
       "      <th>smart_254_normalized</th>\n",
       "      <th>smart_254_raw</th>\n",
       "      <th>smart_255_normalized</th>\n",
       "      <th>smart_255_raw</th>\n",
       "    </tr>\n",
       "  </thead>\n",
       "  <tbody>\n",
       "    <tr>\n",
       "      <th>0</th>\n",
       "      <td>2019-03-28</td>\n",
       "      <td>Z305B2QN</td>\n",
       "      <td>ST4000DM000</td>\n",
       "      <td>4000787030016</td>\n",
       "      <td>0</td>\n",
       "      <td>117.0</td>\n",
       "      <td>149764472.0</td>\n",
       "      <td>NaN</td>\n",
       "      <td>NaN</td>\n",
       "      <td>91.0</td>\n",
       "      <td>...</td>\n",
       "      <td>NaN</td>\n",
       "      <td>NaN</td>\n",
       "      <td>NaN</td>\n",
       "      <td>NaN</td>\n",
       "      <td>NaN</td>\n",
       "      <td>NaN</td>\n",
       "      <td>NaN</td>\n",
       "      <td>NaN</td>\n",
       "      <td>NaN</td>\n",
       "      <td>NaN</td>\n",
       "    </tr>\n",
       "    <tr>\n",
       "      <th>1</th>\n",
       "      <td>2019-03-28</td>\n",
       "      <td>ZJV0XJQ4</td>\n",
       "      <td>ST12000NM0007</td>\n",
       "      <td>12000138625024</td>\n",
       "      <td>0</td>\n",
       "      <td>82.0</td>\n",
       "      <td>147493088.0</td>\n",
       "      <td>NaN</td>\n",
       "      <td>NaN</td>\n",
       "      <td>98.0</td>\n",
       "      <td>...</td>\n",
       "      <td>NaN</td>\n",
       "      <td>NaN</td>\n",
       "      <td>NaN</td>\n",
       "      <td>NaN</td>\n",
       "      <td>NaN</td>\n",
       "      <td>NaN</td>\n",
       "      <td>NaN</td>\n",
       "      <td>NaN</td>\n",
       "      <td>NaN</td>\n",
       "      <td>NaN</td>\n",
       "    </tr>\n",
       "    <tr>\n",
       "      <th>2</th>\n",
       "      <td>2019-03-28</td>\n",
       "      <td>ZJV0XJQ3</td>\n",
       "      <td>ST12000NM0007</td>\n",
       "      <td>12000138625024</td>\n",
       "      <td>0</td>\n",
       "      <td>74.0</td>\n",
       "      <td>26118312.0</td>\n",
       "      <td>NaN</td>\n",
       "      <td>NaN</td>\n",
       "      <td>99.0</td>\n",
       "      <td>...</td>\n",
       "      <td>NaN</td>\n",
       "      <td>NaN</td>\n",
       "      <td>NaN</td>\n",
       "      <td>NaN</td>\n",
       "      <td>NaN</td>\n",
       "      <td>NaN</td>\n",
       "      <td>NaN</td>\n",
       "      <td>NaN</td>\n",
       "      <td>NaN</td>\n",
       "      <td>NaN</td>\n",
       "    </tr>\n",
       "    <tr>\n",
       "      <th>3</th>\n",
       "      <td>2019-03-28</td>\n",
       "      <td>ZJV0XJQ0</td>\n",
       "      <td>ST12000NM0007</td>\n",
       "      <td>12000138625024</td>\n",
       "      <td>0</td>\n",
       "      <td>73.0</td>\n",
       "      <td>20223248.0</td>\n",
       "      <td>NaN</td>\n",
       "      <td>NaN</td>\n",
       "      <td>93.0</td>\n",
       "      <td>...</td>\n",
       "      <td>NaN</td>\n",
       "      <td>NaN</td>\n",
       "      <td>NaN</td>\n",
       "      <td>NaN</td>\n",
       "      <td>NaN</td>\n",
       "      <td>NaN</td>\n",
       "      <td>NaN</td>\n",
       "      <td>NaN</td>\n",
       "      <td>NaN</td>\n",
       "      <td>NaN</td>\n",
       "    </tr>\n",
       "    <tr>\n",
       "      <th>4</th>\n",
       "      <td>2019-03-28</td>\n",
       "      <td>PL1331LAHG1S4H</td>\n",
       "      <td>HGST HMS5C4040ALE640</td>\n",
       "      <td>4000787030016</td>\n",
       "      <td>0</td>\n",
       "      <td>100.0</td>\n",
       "      <td>0.0</td>\n",
       "      <td>134.0</td>\n",
       "      <td>103.0</td>\n",
       "      <td>100.0</td>\n",
       "      <td>...</td>\n",
       "      <td>NaN</td>\n",
       "      <td>NaN</td>\n",
       "      <td>NaN</td>\n",
       "      <td>NaN</td>\n",
       "      <td>NaN</td>\n",
       "      <td>NaN</td>\n",
       "      <td>NaN</td>\n",
       "      <td>NaN</td>\n",
       "      <td>NaN</td>\n",
       "      <td>NaN</td>\n",
       "    </tr>\n",
       "  </tbody>\n",
       "</table>\n",
       "<p>5 rows × 129 columns</p>\n",
       "</div>"
      ],
      "text/plain": [
       "         date   serial_number                 model  capacity_bytes  failure  \\\n",
       "0  2019-03-28        Z305B2QN           ST4000DM000   4000787030016        0   \n",
       "1  2019-03-28        ZJV0XJQ4         ST12000NM0007  12000138625024        0   \n",
       "2  2019-03-28        ZJV0XJQ3         ST12000NM0007  12000138625024        0   \n",
       "3  2019-03-28        ZJV0XJQ0         ST12000NM0007  12000138625024        0   \n",
       "4  2019-03-28  PL1331LAHG1S4H  HGST HMS5C4040ALE640   4000787030016        0   \n",
       "\n",
       "   smart_1_normalized  smart_1_raw  smart_2_normalized  smart_2_raw  \\\n",
       "0               117.0  149764472.0                 NaN          NaN   \n",
       "1                82.0  147493088.0                 NaN          NaN   \n",
       "2                74.0   26118312.0                 NaN          NaN   \n",
       "3                73.0   20223248.0                 NaN          NaN   \n",
       "4               100.0          0.0               134.0        103.0   \n",
       "\n",
       "   smart_3_normalized  ...  smart_250_normalized  smart_250_raw  \\\n",
       "0                91.0  ...                   NaN            NaN   \n",
       "1                98.0  ...                   NaN            NaN   \n",
       "2                99.0  ...                   NaN            NaN   \n",
       "3                93.0  ...                   NaN            NaN   \n",
       "4               100.0  ...                   NaN            NaN   \n",
       "\n",
       "   smart_251_normalized  smart_251_raw  smart_252_normalized  smart_252_raw  \\\n",
       "0                   NaN            NaN                   NaN            NaN   \n",
       "1                   NaN            NaN                   NaN            NaN   \n",
       "2                   NaN            NaN                   NaN            NaN   \n",
       "3                   NaN            NaN                   NaN            NaN   \n",
       "4                   NaN            NaN                   NaN            NaN   \n",
       "\n",
       "   smart_254_normalized  smart_254_raw  smart_255_normalized  smart_255_raw  \n",
       "0                   NaN            NaN                   NaN            NaN  \n",
       "1                   NaN            NaN                   NaN            NaN  \n",
       "2                   NaN            NaN                   NaN            NaN  \n",
       "3                   NaN            NaN                   NaN            NaN  \n",
       "4                   NaN            NaN                   NaN            NaN  \n",
       "\n",
       "[5 rows x 129 columns]"
      ]
     },
     "execution_count": 3,
     "metadata": {},
     "output_type": "execute_result"
    }
   ],
   "source": [
    "data.head()"
   ]
  },
  {
   "cell_type": "code",
   "execution_count": 6,
   "metadata": {},
   "outputs": [
    {
     "data": {
      "text/plain": [
       "0    0.99995\n",
       "1    0.00005\n",
       "Name: failure, dtype: float64"
      ]
     },
     "execution_count": 6,
     "metadata": {},
     "output_type": "execute_result"
    }
   ],
   "source": [
    "#Baseline\n",
    "data.failure.value_counts(normalize = True)"
   ]
  },
  {
   "cell_type": "code",
   "execution_count": 7,
   "metadata": {},
   "outputs": [
    {
     "name": "stdout",
     "output_type": "stream",
     "text": [
      "There are 41 unique model types\n"
     ]
    }
   ],
   "source": [
    "#determine number of unique models in data\n",
    "print(f'There are {data.model.nunique()} unique model types')"
   ]
  },
  {
   "cell_type": "code",
   "execution_count": 8,
   "metadata": {},
   "outputs": [
    {
     "name": "stdout",
     "output_type": "stream",
     "text": [
      "There are 9 model types that have failed\n"
     ]
    }
   ],
   "source": [
    "#Determine how many models in this data have failed\n",
    "failing_models = data[data.failure == 1]['model']\n",
    "\n",
    "print(f'There are {failing_models.nunique()} model types that have failed')"
   ]
  },
  {
   "cell_type": "code",
   "execution_count": 60,
   "metadata": {},
   "outputs": [
    {
     "data": {
      "image/png": "[encoded data removed]",
      "text/plain": [
       "<Figure size 360x360 with 1 Axes>"
      ]
     },
     "metadata": {
      "needs_background": "light"
     },
     "output_type": "display_data"
    }
   ],
   "source": [
    "%matplotlib inline\n",
    "import matplotlib.pyplot as plt\n",
    "\n",
    "fig = plt.figure(figsize = (5,5))\n",
    "\n",
    "#plot the model types that have failed\n",
    "ax = failing_models.value_counts(ascending = True).plot.barh()\n",
    "ax.set_title('Number of failures for given model types')\n",
    "plt.savefig('model_failures.png')\n",
    "plt.show();"
   ]
  },
  {
   "cell_type": "code",
   "execution_count": 17,
   "metadata": {},
   "outputs": [
    {
     "data": {
      "image/png": "[encoded data removed]",
      "text/plain": [
       "<Figure size 504x432 with 1 Axes>"
      ]
     },
     "metadata": {
      "needs_background": "light"
     },
     "output_type": "display_data"
    }
   ],
   "source": [
    "#filter for models that have failed\n",
    "failed_models_total = data[data.model.isin(failing_models)]\n",
    "\n",
    "fig = plt.figure(figsize = (7,6))\n",
    "\n",
    "#plot totals for the model types that have failed\n",
    "ax = failed_models_total.model.value_counts(ascending = True).plot.barh(log= True)\n",
    "ax.set_title('Total number of failing model types in use')\n",
    "plt.savefig('number_of_failing_models.png')\n",
    "plt.show();"
   ]
  },
  {
   "cell_type": "code",
   "execution_count": 19,
   "metadata": {},
   "outputs": [
    {
     "data": {
      "image/png": "[encoded data removed]",
      "text/plain": [
       "<Figure size 576x360 with 1 Axes>"
      ]
     },
     "metadata": {
      "needs_background": "light"
     },
     "output_type": "display_data"
    }
   ],
   "source": [
    "import seaborn as sns\n",
    "\n",
    "#get failures only and add day time feature\n",
    "failures = data[data.failure == 1].copy()\n",
    "failures['day'] = pd.to_datetime(failures.date).dt.day\n",
    "\n",
    "fig = plt.figure(figsize = (8,5))\n",
    "\n",
    "#plot total hardrives failed each day\n",
    "ax = sns.countplot(failures.day)\n",
    "ax.set_title('Total Failures Each Day')\n",
    "plt.savefig('daily_failures.png')\n",
    "plt.show();"
   ]
  },
  {
   "cell_type": "code",
   "execution_count": 46,
   "metadata": {
    "scrolled": false
   },
   "outputs": [
    {
     "data": {
      "image/png": "[encoded data removed]",
      "text/plain": [
       "<Figure size 504x432 with 1 Axes>"
      ]
     },
     "metadata": {
      "needs_background": "light"
     },
     "output_type": "display_data"
    }
   ],
   "source": [
    "#filter for models that have failed\n",
    "smart_9_failures = data[data.failure == 1]['smart_9_raw']\n",
    "\n",
    "fig = plt.figure(figsize = (7,6))\n",
    "\n",
    "\n",
    "#plot totals for the model types that have failed\n",
    "ax = sns.distplot(smart_9_failures/ 24, color = 'r') \n",
    "ax.set_title('Distribution of failing harddrive service life (in days)')\n",
    "ax.set_yticks([])\n",
    "plt.savefig('days_before_a_model_fails.png')\n",
    "plt.show();"
   ]
  },
  {
   "cell_type": "code",
   "execution_count": 47,
   "metadata": {},
   "outputs": [
    {
     "data": {
      "image/png": "[encoded data removed]",
      "text/plain": [
       "<Figure size 504x432 with 1 Axes>"
      ]
     },
     "metadata": {
      "needs_background": "light"
     },
     "output_type": "display_data"
    }
   ],
   "source": [
    "#filter for models that have failed\n",
    "smart_9 = data['smart_9_raw'].fillna(data.smart_9_raw.mean())\n",
    "\n",
    "fig = plt.figure(figsize = (7,6))\n",
    "\n",
    "#plot totals for the model types that have failed\n",
    "ax = sns.distplot(smart_9 / 24, color = 'y')\n",
    "ax.set_title('Total distribution of hardrive service life(in days)')\n",
    "ax.set_yticks([])\n",
    "plt.savefig('life_distribution.png')\n",
    "plt.show();"
   ]
  },
  {
   "cell_type": "code",
   "execution_count": 67,
   "metadata": {},
   "outputs": [],
   "source": [
    "from sklearn.model_selection import train_test_split\n",
    "from sklearn.impute import SimpleImputer\n",
    "from sklearn.ensemble import IsolationForest\n",
    "from sklearn.metrics import classification_report\n",
    "from sklearn.metrics import roc_auc_score, roc_curve, auc\n",
    "from sklearn.preprocessing import StandardScaler\n",
    "from sklearn.ensemble import AdaBoostClassifier\n",
    "from sklearn.utils import resample\n",
    "\n",
    "import numpy as np\n",
    "import category_encoders as ce"
   ]
  },
  {
   "cell_type": "code",
   "execution_count": 49,
   "metadata": {},
   "outputs": [
    {
     "name": "stderr",
     "output_type": "stream",
     "text": [
      "/home/unburied/anaconda3/lib/python3.7/site-packages/sklearn/model_selection/_split.py:2179: FutureWarning: From version 0.21, test_size will always complement train_size unless both are specified.\n",
      "  FutureWarning)\n"
     ]
    }
   ],
   "source": [
    "#data is daily status of the same harddrives, so set up variable\n",
    "#to split on the unique hardrives in the dataset\n",
    "serial_numbers = data['serial_number'].unique().tolist()\n",
    "\n",
    "serial_failures = data[data.failure == 1]['serial_number'].unique().tolist()\n",
    "\n",
    "for fail in serial_failures:\n",
    "    serial_numbers.remove(fail)\n",
    "\n",
    "#split on serial numbers\n",
    "X_train_ids, X_test_ids = train_test_split(serial_numbers, random_state = 42)\n",
    "X_train_ids, X_val_ids = train_test_split(X_train_ids,random_state = 42)\n",
    "\n",
    "extend_train, extend_test = train_test_split(serial_failures, random_state = 42, train_size = .9)\n",
    "extend_train,extend_val = train_test_split(extend_train, random_state = 42, train_size = .9)\n",
    "\n",
    "X_train_ids.extend(extend_train)\n",
    "X_val_ids.extend(extend_val)\n",
    "X_test_ids.extend(extend_test)\n",
    "\n",
    "#wrangle feature matrix\n",
    "drop = ['serial_number']\n",
    "\n",
    "#ensure train set has no failures to more acurately predict failure\n",
    "X_train = data[data.serial_number.isin(X_train_ids)].drop(columns = drop)\n",
    "X_test = data[data.serial_number.isin(X_test_ids)].drop(columns = drop)\n",
    "X_val = data[data.serial_number.isin(X_val_ids)].drop(columns = drop)\n",
    "\n",
    "#target vector\n",
    "y_train = X_train.pop('failure')\n",
    "y_test = X_test.pop('failure')\n",
    "y_val = X_val.pop('failure')"
   ]
  },
  {
   "cell_type": "code",
   "execution_count": 50,
   "metadata": {},
   "outputs": [
    {
     "name": "stdout",
     "output_type": "stream",
     "text": [
      "Fialures distributed among cross validation sets:\n",
      "\n",
      "Training --> 0    598622\n",
      "1        42\n",
      "Name: failure, dtype: int64\n",
      "\n",
      "Validation --> 0    199597\n",
      "1         5\n",
      "Name: failure, dtype: int64\n",
      "\n",
      "Testing --> 0    266068\n",
      "1         6\n",
      "Name: failure, dtype: int64\n"
     ]
    }
   ],
   "source": [
    "print('Fialures distributed among cross validation sets:')\n",
    "print()\n",
    "print(f'Training --> {y_train.value_counts()}')\n",
    "print()\n",
    "print(f'Validation --> {y_val.value_counts()}')   \n",
    "print()\n",
    "print(f'Testing --> {y_test.value_counts()}')   "
   ]
  },
  {
   "cell_type": "code",
   "execution_count": 51,
   "metadata": {},
   "outputs": [],
   "source": [
    "#Replace time string data with dattime date of year data\n",
    "X_train['day'] = pd.to_datetime(X_train.date).dt.dayofyear.drop(columns = 'date')   \n",
    "X_val['day'] = pd.to_datetime(X_val.date).dt.dayofyear.drop(columns = 'date') \n",
    "X_test['day'] = pd.to_datetime(X_test.date).dt.dayofyear.drop(columns = 'date') \n",
    "\n",
    "#encode models column\n",
    "encoder = ce.OrdinalEncoder()\n",
    "\n",
    "X_train  = encoder.fit_transform(X_train)\n",
    "X_test = encoder.transform(X_test)\n",
    "X_val = encoder.transform(X_val)\n",
    "\n",
    "\n",
    "#impute NAs. This may or may not be right\n",
    "imputer = SimpleImputer()\n",
    "\n",
    "X_train  = imputer.fit_transform(X_train)\n",
    "X_test = imputer.transform(X_test)\n",
    "X_val = imputer.transform(X_val)"
   ]
  },
  {
   "cell_type": "code",
   "execution_count": 53,
   "metadata": {},
   "outputs": [],
   "source": [
    "#def adaboost(X_train, X_val, y_train):\n",
    "#    model = AdaBoostClassifier(n_estimators= 100, random_state=42)\n",
    "#    model.fit(X_train,y_train)\n",
    "#    y_pred = model.predict(X_val) \n",
    "#    return y_pred\n",
    "\n",
    "#def isoforest(X_train, X_val, y_train):\n",
    "#    model = IsolationForest(behaviour = 'new',\n",
    "#                            contamination = .01,\n",
    "#                            n_estimators=100,\n",
    "#                           random_state=42)\n",
    "#    model.fit(X_train,y_train)\n",
    "#    y_pred = model.predict(X_val) \n",
    "#    return y_pred"
   ]
  },
  {
   "cell_type": "code",
   "execution_count": null,
   "metadata": {},
   "outputs": [],
   "source": [
    "#Simple Random Undersampling technique\n",
    "#X_full = pd.DataFrame(X_train)\n",
    "#X_full['target'] = y_train\n",
    "#X_maj = X_full[X_full.target==0]\n",
    "#X_min = X_full[X_full.target==1]\n",
    "#X_maj_rus = resample(X_maj,replace=False,n_samples= len(X_min), random_state=42)\n",
    "#X_rus = pd.concat([X_maj_rus, X_min])\n",
    "#X_train_rus = X_maj_rus.drop(['target'], axis=1)\n",
    "#y_train_rus = X_maj_rus.target"
   ]
  },
  {
   "cell_type": "code",
   "execution_count": null,
   "metadata": {},
   "outputs": [],
   "source": [
    "#y_rus = adaboost(X_train_rus, X_val, y_train_rus)\n",
    "#y_if = isoforest(X_train_rus,X_val, y_train_rus)"
   ]
  },
  {
   "cell_type": "code",
   "execution_count": null,
   "metadata": {},
   "outputs": [],
   "source": [
    "#print(classification_report(y_val, y_rus))\n",
    "#print(classification_report(y_val, y_if))"
   ]
  },
  {
   "cell_type": "code",
   "execution_count": null,
   "metadata": {},
   "outputs": [],
   "source": [
    "#print(roc_auc_score(y_val, y_rus))\n",
    "#roc_auc_score(y_val, y_if)"
   ]
  },
  {
   "cell_type": "code",
   "execution_count": 55,
   "metadata": {},
   "outputs": [
    {
     "name": "stdout",
     "output_type": "stream",
     "text": [
      "/home/unburied\n"
     ]
    }
   ],
   "source": [
    "cd"
   ]
  },
  {
   "cell_type": "code",
   "execution_count": 56,
   "metadata": {},
   "outputs": [
    {
     "name": "stdout",
     "output_type": "stream",
     "text": [
      "/home/unburied/Gitstuff/DS-Unit-2/DS-Unit-2-Project/imbalanced-algorithms\n"
     ]
    }
   ],
   "source": [
    "cd Gitstuff/DS-Unit-2/DS-Unit-2-Project/imbalanced-algorithms"
   ]
  },
  {
   "cell_type": "code",
   "execution_count": 57,
   "metadata": {},
   "outputs": [],
   "source": [
    "#import rus\n",
    "import smote"
   ]
  },
  {
   "cell_type": "code",
   "execution_count": null,
   "metadata": {},
   "outputs": [],
   "source": [
    "#Boosted RUS\n",
    "#rus_boosted = rus.RUSBoost(n_samples = 500,\n",
    "#                           with_replacement= False,\n",
    "#                           random_state= 42)\n",
    "#rus_boosted.fit(X_train, y_train)\n",
    "#y_rus_boosted = rus_boosted.predict(X_val)\n",
    "\n",
    "#print(classification_report(y_val, y_rus_boosted))"
   ]
  },
  {
   "cell_type": "code",
   "execution_count": null,
   "metadata": {},
   "outputs": [],
   "source": [
    "#roc_auc_score(y_val, y_rus_boosted)"
   ]
  },
  {
   "cell_type": "code",
   "execution_count": 58,
   "metadata": {},
   "outputs": [
    {
     "name": "stdout",
     "output_type": "stream",
     "text": [
      "              precision    recall  f1-score   support\n",
      "\n",
      "           0       1.00      1.00      1.00    199597\n",
      "           1       0.03      0.40      0.06         5\n",
      "\n",
      "   micro avg       1.00      1.00      1.00    199602\n",
      "   macro avg       0.51      0.70      0.53    199602\n",
      "weighted avg       1.00      1.00      1.00    199602\n",
      "\n"
     ]
    }
   ],
   "source": [
    "#Boosted smote\n",
    "smote_boosted = smote.SMOTEBoost(n_samples = 500,                           \n",
    "                           random_state= 42)\n",
    "smote_boosted.fit(X_train, y_train)\n",
    "y_smote_boosted = smote_boosted.predict(X_val)\n",
    "\n",
    "print(classification_report(y_val, y_smote_boosted))"
   ]
  },
  {
   "cell_type": "code",
   "execution_count": 59,
   "metadata": {},
   "outputs": [
    {
     "data": {
      "text/plain": [
       "0.6998371719013813"
      ]
     },
     "execution_count": 59,
     "metadata": {},
     "output_type": "execute_result"
    }
   ],
   "source": [
    "roc_auc_score(y_val, y_smote_boosted)"
   ]
  },
  {
   "cell_type": "code",
   "execution_count": 68,
   "metadata": {},
   "outputs": [
    {
     "data": {
      "text/plain": [
       "0.5831191023848541"
      ]
     },
     "execution_count": 68,
     "metadata": {},
     "output_type": "execute_result"
    }
   ],
   "source": [
    "y_smote_pred = smote_boosted.predict(X_test)\n",
    "roc_auc_score(y_test, y_smote_test)"
   ]
  },
  {
   "cell_type": "code",
   "execution_count": 71,
   "metadata": {},
   "outputs": [
    {
     "data": {
      "image/png": "[encoded data removed]",
      "text/plain": [
       "<Figure size 432x288 with 1 Axes>"
      ]
     },
     "metadata": {
      "needs_background": "light"
     },
     "output_type": "display_data"
    }
   ],
   "source": [
    "fpr, tpr, threshold = roc_curve(y_test, y_smote_pred)\n",
    "roc_auc = auc(fpr, tpr)\n",
    "\n",
    "plt.title('Receiver Operating Characteristic')\n",
    "plt.plot(fpr, tpr, 'b', label = 'AUC = %0.2f' % roc_auc)\n",
    "plt.legend(loc = 'lower right')\n",
    "plt.plot([0, 1], [0, 1],'r--')\n",
    "plt.xlim([0, 1])\n",
    "plt.ylim([0, 1])\n",
    "plt.ylabel('True Positive Rate')\n",
    "plt.xlabel('False Positive Rate')\n",
    "plt.savefig('Auc.png')\n",
    "plt.show()"
   ]
  },
  {
   "cell_type": "code",
   "execution_count": null,
   "metadata": {},
   "outputs": [],
   "source": []
  }
 ],
 "metadata": {
  "kernelspec": {
   "display_name": "Python 3",
   "language": "python",
   "name": "python3"
  },
  "language_info": {
   "codemirror_mode": {
    "name": "ipython",
    "version": 3
   },
   "file_extension": ".py",
   "mimetype": "text/x-python",
   "name": "python",
   "nbconvert_exporter": "python",
   "pygments_lexer": "ipython3",
   "version": "3.7.3"
  }
 },
 "nbformat": 4,
 "nbformat_minor": 2
}
